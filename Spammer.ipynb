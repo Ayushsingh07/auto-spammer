{
 "metadata": {
  "language_info": {
   "codemirror_mode": {
    "name": "ipython",
    "version": 3
   },
   "file_extension": ".py",
   "mimetype": "text/x-python",
   "name": "python",
   "nbconvert_exporter": "python",
   "pygments_lexer": "ipython3",
   "version": "3.8.5"
  },
  "orig_nbformat": 2,
  "kernelspec": {
   "name": "python385jvsc74a57bd0916dbcbb3f70747c44a77c7bcd40155683ae19c65e1c03b4aa3499c5328201f1",
   "display_name": "Python 3.8.5 64-bit"
  },
  "metadata": {
   "interpreter": {
    "hash": "916dbcbb3f70747c44a77c7bcd40155683ae19c65e1c03b4aa3499c5328201f1"
   }
  }
 },
 "nbformat": 4,
 "nbformat_minor": 2,
 "cells": [
  {
   "cell_type": "code",
   "execution_count": 1,
   "source": [
    "from selenium import webdriver\r\n",
    "from selenium.webdriver.common.keys import Keys\r\n",
    "driver = webdriver.Chrome()\r\n",
    "driver.get('https://web.whatsapp.com')"
   ],
   "outputs": [],
   "metadata": {}
  },
  {
   "cell_type": "code",
   "execution_count": 19,
   "source": [
    "def spam(hacktober, 10, textfield_xpath):\r\n",
    "    '''\r\n",
    "    Parameters:\r\n",
    "        message - The message in string format\r\n",
    "        n_times - number of times to spam\r\n",
    "        textfield_xpath - xpath of the text field\r\n",
    "    '''\r\n",
    "\r\n",
    "    text_field = driver.find_element_by_xpath(textfield_xpath)\r\n",
    "\r\n",
    "    for i in range(n_times):\r\n",
    "        text_field.send_keys(message)\r\n",
    "        text_field.send_keys(Keys.ENTER)\r\n",
    "        text_field.send_keys(Keys.ENTER) # This line is only for the special case of the message trailing in a tag remove this in a general case."
   ],
   "outputs": [],
   "metadata": {}
  },
  {
   "cell_type": "markdown",
   "source": [
    "## Now, this step can can only be done manually. \n",
    "#### Sign in to your whatsapp account in the chrome window that just popped up. \n",
    "#### Then open the inbox of the group/person you want to spam\n",
    "#### Click inspect and get the xPath of textbox and plug it in the spam function. Then sit back and enjoy :)\n"
   ],
   "metadata": {}
  },
  {
   "cell_type": "code",
   "execution_count": 22,
   "source": [
    "spam('Happy birthday bro', 10, '//*[@id=\"main\"]/footer/div[1]/div[2]/div/div[2]')"
   ],
   "outputs": [],
   "metadata": {}
  }
 ]
}